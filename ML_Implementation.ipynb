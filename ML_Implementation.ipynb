{
  "nbformat": 4,
  "nbformat_minor": 0,
  "metadata": {
    "colab": {
      "name": "ProjectImplementation.ipynb",
      "provenance": [],
      "collapsed_sections": [],
      "machine_shape": "hm",
      "toc_visible": true
    },
    "kernelspec": {
      "name": "python3",
      "display_name": "Python 3"
    },
    "language_info": {
      "name": "python"
    }
  },
  "cells": [
    {
      "cell_type": "markdown",
      "source": [
        "Aryan Dusi Kameshwara| 852319 | Project ML implmentation"
      ],
      "metadata": {
        "id": "XkpKwAWdI7HO"
      }
    },
    {
      "cell_type": "markdown",
      "source": [
        "#1. Data Loading and processing"
      ],
      "metadata": {
        "id": "MNCQodXPCjXm"
      }
    },
    {
      "cell_type": "markdown",
      "source": [
        "Using the datset  with cars that have 'not specified' amount of owners completely removed."
      ],
      "metadata": {
        "id": "NApHeibG_sOZ"
      }
    },
    {
      "cell_type": "code",
      "execution_count": null,
      "metadata": {
        "colab": {
          "base_uri": "https://localhost:8080/"
        },
        "id": "4JwY1uchCdhG",
        "outputId": "aed4462b-05a4-417d-9056-01ac4c52b871"
      },
      "outputs": [
        {
          "output_type": "stream",
          "name": "stdout",
          "text": [
            "Car Data:\n",
            "           Make     Model  Reg-Year Configuration  Mileage(Miles)  \\\n",
            "0       Citroen        C3      2018           SUV         30718.0   \n",
            "1          Ford     Focus      2006     Hatchback         81000.0   \n",
            "2      Vauxhall     Astra      2010     Hatchback        110000.0   \n",
            "3      Vauxhall     Astra      2010     Hatchback        160000.0   \n",
            "4       Renault      Clio      2011     Hatchback        147000.0   \n",
            "...         ...       ...       ...           ...             ...   \n",
            "28213      Jeep   Compass      2018           SUV         36474.0   \n",
            "28214      Jeep  Renegade      2017           SUV         40709.0   \n",
            "28215      Jeep  Renegade      2017           SUV         60525.0   \n",
            "28216      Jeep  Wrangler      2018           SUV         21000.0   \n",
            "28217      Jeep  Renegade      2017           SUV         35000.0   \n",
            "\n",
            "       EngSize(Litres)  Power(BHP)    Control Fuel-Type  Owners  \n",
            "0                  1.2          82     Manual    Petrol       1  \n",
            "1                  1.6         113     Manual    Petrol       2  \n",
            "2                  1.4         140     Manual    Petrol       2  \n",
            "3                  1.4         140     Manual    Petrol      11  \n",
            "4                  1.2         100     Manual    Petrol       1  \n",
            "...                ...         ...        ...       ...     ...  \n",
            "28213              1.6         118     Manual    Diesel       1  \n",
            "28214              1.6         118     Manual    Diesel       1  \n",
            "28215              1.4         138     Manual    Petrol       2  \n",
            "28216              2.8         200  Automatic    Diesel       2  \n",
            "28217              1.6         120     Manual    Diesel       1  \n",
            "\n",
            "[28218 rows x 10 columns]\n",
            " \n",
            "Car Labels (price)::\n",
            "0        11500.0\n",
            "1         1544.0\n",
            "2         1495.0\n",
            "3          995.0\n",
            "4         1795.0\n",
            "          ...   \n",
            "28213    15000.0\n",
            "28214    13000.0\n",
            "28215    12000.0\n",
            "28216    32295.0\n",
            "28217    12995.0\n",
            "Name: Price, Length: 28218, dtype: float64\n"
          ]
        }
      ],
      "source": [
        "import numpy as np\n",
        "import pandas as pd\n",
        "import matplotlib.pyplot as plt\n",
        "from sklearn.model_selection import train_test_split\n",
        "from sklearn.preprocessing import StandardScaler\n",
        "from sklearn.metrics import mean_squared_error\n",
        "\n",
        "#Dataset including cars that dont have a speficied amount of owners\n",
        "#df = pd.read_csv('/content/scrapedCars5.csv')\n",
        "\n",
        "#Dataset only including cars that have a speficied amount of owners\n",
        "df = pd.read_csv('/content/Scraped carsW.csv')\n",
        "\n",
        "#Removing the commas from the mileage and price columns and float Conversion\n",
        "df['Price'] = df['Price'].str.replace(',', '').astype(float)\n",
        "df['Mileage(Miles)'] = df['Mileage(Miles)'].str.replace(',', '').astype(float)\n",
        "\n",
        "#splitting the dataset into labels and data\n",
        "data = df.drop('Price',axis=1)\n",
        "labels = df['Price']\n",
        "\n",
        "\n",
        "print(\"Car Data:\")\n",
        "print(data)\n",
        "print(\" \")\n",
        "print(\"Car Labels (price)::\")\n",
        "print(labels)\n",
        "\n",
        "#saving the original dataset in train test form , with same random split as \n",
        "#processed data to plot feature graphs\n",
        "data_train,data_test,label_train,label_test = train_test_split(data,labels,train_size=0.8, random_state= 34)"
      ]
    },
    {
      "cell_type": "markdown",
      "source": [
        "#2.Hot Encoding the dataset\n",
        "\n",
        "Implementing a Hot encoder For the dataset to convert the categorical variables to numerical ones so it can be provided to the required ML algorithm as full numerical data\n"
      ],
      "metadata": {
        "id": "OABYckprPPE7"
      }
    },
    {
      "cell_type": "code",
      "source": [
        "#One hot whole Dataset to keep dimensionality Consistent\n",
        "from sklearn.preprocessing import OneHotEncoder\n",
        "enc = OneHotEncoder(handle_unknown = 'ignore')\n",
        "enc.fit(data)\n",
        "data = enc.transform(data).toarray()\n",
        "print(data)"
      ],
      "metadata": {
        "id": "uIoaBEr4LAfp",
        "colab": {
          "base_uri": "https://localhost:8080/"
        },
        "outputId": "6a64bd40-ba16-4d10-9b67-d4d18d0ddba3"
      },
      "execution_count": null,
      "outputs": [
        {
          "output_type": "stream",
          "name": "stdout",
          "text": [
            "[[0. 0. 0. ... 0. 0. 0.]\n",
            " [0. 0. 0. ... 0. 0. 0.]\n",
            " [0. 0. 0. ... 0. 0. 0.]\n",
            " ...\n",
            " [0. 0. 0. ... 0. 0. 0.]\n",
            " [0. 0. 0. ... 0. 0. 0.]\n",
            " [0. 0. 0. ... 0. 0. 0.]]\n"
          ]
        }
      ]
    },
    {
      "cell_type": "markdown",
      "source": [
        "#3.Scaling and splitting the dataset"
      ],
      "metadata": {
        "id": "ccw6bov2W0TD"
      }
    },
    {
      "cell_type": "markdown",
      "source": [
        "Scaling the dataset and then splittong it into a train test data:\n",
        "\n",
        "-Creating a Scalar object to give every column in our data a mean of zero and a variance of 1 \n",
        "\n",
        "-To obtain scaled data that is close to zero\n",
        "(This reduces the distance between each of the data points - hence minimising the sensitivty of the model used)"
      ],
      "metadata": {
        "id": "ljiMzvDnxK3U"
      }
    },
    {
      "cell_type": "code",
      "source": [
        "from sklearn.preprocessing import StandardScaler\n",
        "scaler = StandardScaler()\n",
        "\n",
        "x = data\n",
        "y = labels\n",
        "\n",
        "x = scaler.fit_transform(x)\n",
        "print(\"Scaled Dataset:\")\n",
        "print(x)\n",
        "\n",
        "#80:20 split -> train/test\n",
        "X_train,x_test,y_train,y_test = train_test_split(x,y,train_size=0.8, random_state= 34)\n",
        "#random state so we get the same partition each run of the dataset to ensure consistency"
      ],
      "metadata": {
        "id": "0R-BHxCaS9Iw",
        "colab": {
          "base_uri": "https://localhost:8080/"
        },
        "outputId": "1590d561-b7ca-47d4-c5fd-20233e351304"
      },
      "execution_count": null,
      "outputs": [
        {
          "output_type": "stream",
          "name": "stdout",
          "text": [
            "Scaled Dataset:\n",
            "[[-0.14112201 -0.14486407 -0.01974776 ... -0.01575215 -0.01190687\n",
            "  -0.00595312]\n",
            " [-0.14112201 -0.14486407 -0.01974776 ... -0.01575215 -0.01190687\n",
            "  -0.00595312]\n",
            " [-0.14112201 -0.14486407 -0.01974776 ... -0.01575215 -0.01190687\n",
            "  -0.00595312]\n",
            " ...\n",
            " [-0.14112201 -0.14486407 -0.01974776 ... -0.01575215 -0.01190687\n",
            "  -0.00595312]\n",
            " [-0.14112201 -0.14486407 -0.01974776 ... -0.01575215 -0.01190687\n",
            "  -0.00595312]\n",
            " [-0.14112201 -0.14486407 -0.01974776 ... -0.01575215 -0.01190687\n",
            "  -0.00595312]]\n"
          ]
        }
      ]
    },
    {
      "cell_type": "markdown",
      "source": [
        "#4.Regression: using logistic regression and gradient boosting to make predictions based on the scraped dataset\n",
        "\n"
      ],
      "metadata": {
        "id": "AX43bP5USlFt"
      }
    },
    {
      "cell_type": "markdown",
      "source": [
        "Training a logistic regression model with the training data\n",
        "and then using the model to predict the test dataset "
      ],
      "metadata": {
        "id": "lxTpK-OxBZQ1"
      }
    },
    {
      "cell_type": "code",
      "source": [
        "small_train,small_test,smally_train,smally_test = train_test_split(x,y,train_size=0.4, random_state= 22)\n",
        "#redusing the dataset to about 4-% since logistic regression takes up too much memory\n",
        "#and using 20,000 plus models will crash it\n",
        "lin_train,lin_test,liny_train,liny_test = train_test_split(small_train,smally_train,train_size=0.8, random_state= 34)\n",
        "#making the train load lower so the log reg doesn't crash\n",
        "print(len(lin_train))\n",
        "#9000 models being trained \n",
        "\n",
        "from sklearn import linear_model\n",
        "from sklearn.linear_model import LogisticRegression\n",
        "from sklearn.metrics import r2_score\n",
        "from sklearn.pipeline import make_pipeline\n",
        "lr = LogisticRegression(random_state= 0,max_iter = 20) #try lower amount of iterations and change doc\n",
        "lr.fit(lin_train,liny_train)"
      ],
      "metadata": {
        "id": "dE5OdxIixcCP",
        "colab": {
          "base_uri": "https://localhost:8080/"
        },
        "outputId": "59ecf974-8f2e-456a-852e-b482c06a1136"
      },
      "execution_count": null,
      "outputs": [
        {
          "output_type": "stream",
          "name": "stdout",
          "text": [
            "9029\n"
          ]
        },
        {
          "output_type": "stream",
          "name": "stderr",
          "text": [
            "/usr/local/lib/python3.7/dist-packages/sklearn/linear_model/_logistic.py:818: ConvergenceWarning: lbfgs failed to converge (status=1):\n",
            "STOP: TOTAL NO. of ITERATIONS REACHED LIMIT.\n",
            "\n",
            "Increase the number of iterations (max_iter) or scale the data as shown in:\n",
            "    https://scikit-learn.org/stable/modules/preprocessing.html\n",
            "Please also refer to the documentation for alternative solver options:\n",
            "    https://scikit-learn.org/stable/modules/linear_model.html#logistic-regression\n",
            "  extra_warning_msg=_LOGISTIC_SOLVER_CONVERGENCE_MSG,\n"
          ]
        },
        {
          "output_type": "execute_result",
          "data": {
            "text/plain": [
              "LogisticRegression(max_iter=20, random_state=0)"
            ]
          },
          "metadata": {},
          "execution_count": 33
        }
      ]
    },
    {
      "cell_type": "code",
      "source": [
        "preds = lr.predict(lin_test)\n",
        "print(preds)"
      ],
      "metadata": {
        "id": "CbpfAK2ghtE2",
        "colab": {
          "base_uri": "https://localhost:8080/"
        },
        "outputId": "4278e5d3-2ea3-41dc-966c-4f4487e5ce9e"
      },
      "execution_count": null,
      "outputs": [
        {
          "output_type": "stream",
          "name": "stdout",
          "text": [
            "[15300.  6495. 20990. ...  2500.  3499.  4280.]\n"
          ]
        }
      ]
    },
    {
      "cell_type": "code",
      "source": [
        "linear_loss = np.sqrt(mean_squared_error(liny_test,preds))\n",
        "print(\"Log Regression Root Mean Squared Error:\", linear_loss)"
      ],
      "metadata": {
        "colab": {
          "base_uri": "https://localhost:8080/"
        },
        "id": "DWBvtcziE8J2",
        "outputId": "9649c226-5274-45af-e40f-780ce1eb218f"
      },
      "execution_count": null,
      "outputs": [
        {
          "output_type": "stream",
          "name": "stdout",
          "text": [
            "Log Regression Root Mean Squared Error: 16442.86254297513\n"
          ]
        }
      ]
    },
    {
      "cell_type": "code",
      "source": [
        "from sklearn.metrics import mean_absolute_error\n",
        "mean_absolute_error(preds,liny_test)"
      ],
      "metadata": {
        "colab": {
          "base_uri": "https://localhost:8080/"
        },
        "id": "-0aN9OVN_p6x",
        "outputId": "7709e0ff-3da6-402b-8c4a-0a8c95290e10"
      },
      "execution_count": null,
      "outputs": [
        {
          "output_type": "execute_result",
          "data": {
            "text/plain": [
              "4966.77015057573"
            ]
          },
          "metadata": {},
          "execution_count": 40
        }
      ]
    },
    {
      "cell_type": "code",
      "source": [
        "r2_score(preds,liny_test)"
      ],
      "metadata": {
        "colab": {
          "base_uri": "https://localhost:8080/"
        },
        "id": "559ocjwVh5sh",
        "outputId": "62734c7c-261a-445b-83ce-3f438ffcb269"
      },
      "execution_count": null,
      "outputs": [
        {
          "output_type": "execute_result",
          "data": {
            "text/plain": [
              "0.7494538504753927"
            ]
          },
          "metadata": {},
          "execution_count": 10
        }
      ]
    },
    {
      "cell_type": "code",
      "source": [
        "plt.figure()\n",
        "plt.scatter(liny_test,preds, c='blue')\n",
        "plt.title('Logistic Regression Model')\n",
        "plt.xlabel('Actual Price')\n",
        "plt.ylabel('Predicted Price')"
      ],
      "metadata": {
        "colab": {
          "base_uri": "https://localhost:8080/",
          "height": 313
        },
        "id": "K1IRJdZXghcW",
        "outputId": "ac742914-f3c7-4d61-9173-07d4843314fb"
      },
      "execution_count": null,
      "outputs": [
        {
          "output_type": "execute_result",
          "data": {
            "text/plain": [
              "Text(0, 0.5, 'Predicted Price')"
            ]
          },
          "metadata": {},
          "execution_count": 43
        },
        {
          "output_type": "display_data",
          "data": {
            "text/plain": [
              "<Figure size 432x288 with 1 Axes>"
            ],
            "image/png": "[encoded data removed]"
          },
          "metadata": {
            "needs_background": "light"
          }
        }
      ]
    },
    {
      "cell_type": "markdown",
      "source": [
        "#5.Training a Gradient Boosting Model to attempt to improve the performance of the regressor"
      ],
      "metadata": {
        "id": "z0U6S03dCGMH"
      }
    },
    {
      "cell_type": "code",
      "source": [
        "import lightgbm as lgb\n",
        "from sklearn.metrics import r2_score\n",
        "#boosting type-> a gradient boosting decision tree\n",
        "#number of leaves for each tree\n",
        "#number of estimators to use\n",
        "#L2 regulatisation, (acts like a force that removes a small percentage of weights at each iteration)\n",
        "gb_model = lgb.LGBMRegressor(boosting_type= 'gbdt',num_leaves = 34, n_estimators = 800,reg_lambda=1.0)\n",
        "#800,100\n",
        "gb_model.fit(X_train,y_train)\n",
        "gb_predictions = gb_model.predict(x_test)"
      ],
      "metadata": {
        "id": "F0lqfNIVx1Iz"
      },
      "execution_count": null,
      "outputs": []
    },
    {
      "cell_type": "markdown",
      "source": [
        "Metrics for Gradient Boosted model"
      ],
      "metadata": {
        "id": "APPSN-KlUMuZ"
      }
    },
    {
      "cell_type": "code",
      "source": [
        "gb_loss = np.sqrt(mean_squared_error(y_test,gb_predictions))\n",
        "print(\"Gradient Boosted Model's Root Mean Sqaured Error\",gb_loss)\n",
        "#the gradient boosted model's RMSE is a lot smaller"
      ],
      "metadata": {
        "colab": {
          "base_uri": "https://localhost:8080/"
        },
        "id": "edjRGvlwzbcT",
        "outputId": "641af080-75c8-4f68-b8d2-3d51bc1e928c"
      },
      "execution_count": null,
      "outputs": [
        {
          "output_type": "stream",
          "name": "stdout",
          "text": [
            "Gradient Boosted Model's Root Mean Sqaured Error 6283.784841268248\n"
          ]
        }
      ]
    },
    {
      "cell_type": "markdown",
      "source": [
        "Printing the R^2 score for thr GB model (variance of predictiability from the indepandant variable)"
      ],
      "metadata": {
        "id": "ktM7bh7wHuRM"
      }
    },
    {
      "cell_type": "code",
      "source": [
        "from sklearn.metrics import r2_score\n",
        "print(\"Gradient Boosted R^2 score:\")\n",
        "r2_score(y_test,gb_predictions)"
      ],
      "metadata": {
        "colab": {
          "base_uri": "https://localhost:8080/"
        },
        "id": "LU1Bv8gHziCu",
        "outputId": "d2ee77ed-3d93-4d89-df48-e8e6d676ff2a"
      },
      "execution_count": null,
      "outputs": [
        {
          "output_type": "stream",
          "name": "stdout",
          "text": [
            "Gradient Boosted R^2 score:\n"
          ]
        },
        {
          "output_type": "execute_result",
          "data": {
            "text/plain": [
              "0.9598396176598132"
            ]
          },
          "metadata": {},
          "execution_count": 50
        }
      ]
    },
    {
      "cell_type": "code",
      "source": [
        "from sklearn.metrics import mean_absolute_error\n",
        "mean_absolute_error(y_test,gb_predictions)"
      ],
      "metadata": {
        "colab": {
          "base_uri": "https://localhost:8080/"
        },
        "id": "w_swtSM2_7Sc",
        "outputId": "d08e8bc6-ae1f-4ecf-ef0c-72bce6c6f038"
      },
      "execution_count": null,
      "outputs": [
        {
          "output_type": "execute_result",
          "data": {
            "text/plain": [
              "2898.1604486158644"
            ]
          },
          "metadata": {},
          "execution_count": 41
        }
      ]
    },
    {
      "cell_type": "markdown",
      "source": [
        "#***Scatter plots of  GB  Model***\n"
      ],
      "metadata": {
        "id": "8IHq707ti4tm"
      }
    },
    {
      "cell_type": "markdown",
      "source": [
        "From an optimal plot we would want to see a postive correlation between the predicited price and the actual price. To show that the model is correctly identifying a trend in the prices and is able to generally distinguish cars that have higher car prices from lower cars that have lower car prices"
      ],
      "metadata": {
        "id": "hNfsp9TbiN60"
      }
    },
    {
      "cell_type": "code",
      "source": [
        "plt.scatter(y_test,gb_predictions, c='red')\n",
        "plt.title('Gradient Boosted Model')\n",
        "plt.xlabel('Actual Price')\n",
        "plt.ylabel('predicted Price')\n",
        "#nice diagonal patteren\n",
        "#showing that there is a correlation between the predicted and actual values\n",
        "#ideally it will be a line that ressembles Y = X, since pred=actual\n",
        "#but, of course, car prices can be all over the place"
      ],
      "metadata": {
        "colab": {
          "base_uri": "https://localhost:8080/",
          "height": 313
        },
        "id": "ua02sI9wiRMz",
        "outputId": "c94c5281-6892-4ea4-aa65-47de20bf1c96"
      },
      "execution_count": null,
      "outputs": [
        {
          "output_type": "execute_result",
          "data": {
            "text/plain": [
              "Text(0, 0.5, 'predicted Price')"
            ]
          },
          "metadata": {},
          "execution_count": 71
        },
        {
          "output_type": "display_data",
          "data": {
            "text/plain": [
              "<Figure size 432x288 with 1 Axes>"
            ],
            "image/png": "[encoded data removed]"
          },
          "metadata": {
            "needs_background": "light"
          }
        }
      ]
    },
    {
      "cell_type": "markdown",
      "source": [
        "Test dataset's Characteristics vs their Predicted Price"
      ],
      "metadata": {
        "id": "QrH15GpFGqQb"
      }
    },
    {
      "cell_type": "code",
      "source": [
        "plt.title('Mileage VS Predicted Car price')\n",
        "plt.xlabel('MILEAGE (MILES)')\n",
        "plt.ylabel('predicted price')\n",
        "plt.scatter(data_test['Mileage(Miles)'],gb_predictions, c='blue')"
      ],
      "metadata": {
        "id": "7GmGQOKIZBMv",
        "colab": {
          "base_uri": "https://localhost:8080/",
          "height": 313
        },
        "outputId": "6a37c375-7999-41ff-ffe8-2a59f1fe04cf"
      },
      "execution_count": null,
      "outputs": [
        {
          "output_type": "execute_result",
          "data": {
            "text/plain": [
              "<matplotlib.collections.PathCollection at 0x7fd025845c90>"
            ]
          },
          "metadata": {},
          "execution_count": 126
        },
        {
          "output_type": "display_data",
          "data": {
            "text/plain": [
              "<Figure size 432x288 with 1 Axes>"
            ],
            "image/png": "[encoded data removed]"
          },
          "metadata": {
            "needs_background": "light"
          }
        }
      ]
    },
    {
      "cell_type": "code",
      "source": [
        "plt.title('Number of Owners VS Predicted Car price')\n",
        "plt.xlabel('Number of Owners')\n",
        "plt.ylabel('Predicted Price')\n",
        "plt.scatter(data_test['Owners'],gb_predictions, c='purple')"
      ],
      "metadata": {
        "colab": {
          "base_uri": "https://localhost:8080/",
          "height": 313
        },
        "id": "DT3EmqCYCSr4",
        "outputId": "5afeeb0c-8bed-4479-d82d-c5211687fb31"
      },
      "execution_count": null,
      "outputs": [
        {
          "output_type": "execute_result",
          "data": {
            "text/plain": [
              "<matplotlib.collections.PathCollection at 0x7fd02580ba50>"
            ]
          },
          "metadata": {},
          "execution_count": 128
        },
        {
          "output_type": "display_data",
          "data": {
            "text/plain": [
              "<Figure size 432x288 with 1 Axes>"
            ],
            "image/png": "[encoded data removed]"
          },
          "metadata": {
            "needs_background": "light"
          }
        }
      ]
    },
    {
      "cell_type": "code",
      "source": [
        "plt.title('Engine Size VS Predicted Car price')\n",
        "plt.xlabel('Engine Size(Litres)')\n",
        "plt.ylabel('Predicted Price')\n",
        "plt.scatter(data_test['EngSize(Litres)'],gb_predictions, c='green')\n",
        "m, b = np.polyfit(data_test['EngSize(Litres)'],gb_predictions, 1)\n",
        "plt.plot(data_test['EngSize(Litres)'], m*data_test['EngSize(Litres)'] + b,c='darkblue')"
      ],
      "metadata": {
        "colab": {
          "base_uri": "https://localhost:8080/",
          "height": 313
        },
        "id": "YWPYZKyTFCUE",
        "outputId": "7e2fcfbc-0285-4082-ed16-89d7808631b5"
      },
      "execution_count": null,
      "outputs": [
        {
          "output_type": "execute_result",
          "data": {
            "text/plain": [
              "[<matplotlib.lines.Line2D at 0x7f4907fef550>]"
            ]
          },
          "metadata": {},
          "execution_count": 58
        },
        {
          "output_type": "display_data",
          "data": {
            "text/plain": [
              "<Figure size 432x288 with 1 Axes>"
            ],
            "image/png": "[encoded data removed]"
          },
          "metadata": {
            "needs_background": "light"
          }
        }
      ]
    },
    {
      "cell_type": "code",
      "source": [
        "plt.title('Engine Power (BHP) VS Predicted Car price')\n",
        "plt.xlabel('Power(BHP)')\n",
        "plt.ylabel('Predicted Price')\n",
        "plt.scatter(data_test['Power(BHP)'],gb_predictions, c='black')\n",
        "m, b = np.polyfit(data_test['Power(BHP)'],gb_predictions, 1)\n",
        "plt.plot(data_test['Power(BHP)'], m*data_test['Power(BHP)'] + b,c='orange')"
      ],
      "metadata": {
        "colab": {
          "base_uri": "https://localhost:8080/",
          "height": 313
        },
        "id": "pgWH5--0FgqI",
        "outputId": "d077b0dc-91ff-4d38-dbba-19dbf44707df"
      },
      "execution_count": null,
      "outputs": [
        {
          "output_type": "execute_result",
          "data": {
            "text/plain": [
              "[<matplotlib.lines.Line2D at 0x7f4907f6c2d0>]"
            ]
          },
          "metadata": {},
          "execution_count": 59
        },
        {
          "output_type": "display_data",
          "data": {
            "text/plain": [
              "<Figure size 432x288 with 1 Axes>"
            ],
            "image/png": "[encoded data removed]"
          },
          "metadata": {
            "needs_background": "light"
          }
        }
      ]
    },
    {
      "cell_type": "markdown",
      "source": [
        "#Testing the GB Model using Test data"
      ],
      "metadata": {
        "id": "NTHYqdkzQCqF"
      }
    },
    {
      "cell_type": "code",
      "source": [
        "#mercedes benz from website worth 16,500\n",
        "testDT = pd.read_excel('/content/SmallTestDT.xlsx')\n",
        "testDT = enc.transform(testDT).toarray()\n",
        "value = gb_model.predict(testDT)\n",
        "print(float(value))\n",
        "#the model shines in the range of predicting cars that are worth about \n",
        "#0-40,000, this is becuase there is more data for those models in the dataset\n",
        "#and on the web"
      ],
      "metadata": {
        "colab": {
          "base_uri": "https://localhost:8080/"
        },
        "id": "tUvCUMyBhpgk",
        "outputId": "55f425ad-44fc-4216-f9f6-ffb9f082ec3c"
      },
      "execution_count": null,
      "outputs": [
        {
          "output_type": "stream",
          "name": "stdout",
          "text": [
            "16215.156569045632\n"
          ]
        }
      ]
    },
    {
      "cell_type": "markdown",
      "source": [
        "Test interface to enter car models to predict"
      ],
      "metadata": {
        "id": "xDz852McKb8j"
      }
    },
    {
      "cell_type": "code",
      "source": [
        "#For new cars set mileage and owners to 0\n",
        "Make = input(\"Enter car make (brand) (e.g. Ford): \")\n",
        "Model = input(\"Enter model name (e.g. Focus): \")\n",
        "RegYear = input(\"Enter Registration year (e.g. 2018): \")\n",
        "Configuration = input(\"Enter Car Configuration (e.g. Saloon/Hatchback/SUV/Coupe): \")\n",
        "Mileage = input(\"Enter desired car mileage (e.g. 21000): \")\n",
        "Engine_size = input(\"Enter Engine Size-Litres: (usually 0-4): \")\n",
        "Engine_power = input(\"Enter Engine Power-BHP: (usually 0-500): \")\n",
        "Control = input(\"Enter Control-Type: (Automatic/Manual): \")\n",
        "Fuel_type = input(\"Enter Fuel type: (Diesel/Petrol): \" )\n",
        "Owners = input(\"Enter number of Owners: (e.g. 2): \" )\n",
        "\n",
        "dfTestInput = pd.DataFrame(columns=[\"Make\", \"Model\", \"Reg-Year\", \"Configuration\", \"Mileage(Miles)\", \"EngSize(Litres)\", \"Power(BHP)\",\"Control\", \"Fuel-Type\", \"Owners\"])\n",
        "testRow = [Make,Model,RegYear,Configuration,Mileage,Engine_size,Engine_power,Control,Fuel_type,Owners]\n",
        "dfTestInput.loc[len(testRow)] = testRow\n",
        "dfTestInput = enc.transform(dfTestInput).toarray()\n",
        "val = gb_model.predict(dfTestInput)\n",
        "predictedPrice = round(float(val))\n",
        "print(\"The predicted price for this model is: £\",predictedPrice)\n"
      ],
      "metadata": {
        "colab": {
          "base_uri": "https://localhost:8080/"
        },
        "id": "jvCQPtPlI6rY",
        "outputId": "23f02369-14eb-4fab-ee92-58ddedd0b7ff"
      },
      "execution_count": null,
      "outputs": [
        {
          "output_type": "stream",
          "name": "stdout",
          "text": [
            "Enter car make (brand) (e.g. Ford): Audi\n",
            "Enter model name (e.g. Focus): A1\n",
            "Enter Registration year (e.g. 2018): 2020\n",
            "Enter Car Configuration (e.g. Saloon/Hatchback/SUV/Coupe): Hatchback\n",
            "Enter desired car mileage (e.g. 21000): 10000\n",
            "Enter Engine Size-Litres: (usually 0-4): 1.6\n",
            "Enter Engine Power-BHP: (usually 0-500): 170\n",
            "Enter Control-Type: (Automatic/Manual): Automatic\n",
            "Enter Fuel type: (Diesel/Petrol): Petrol\n",
            "Enter number of Owners: (e.g. 2): 1\n",
            "The predicted price for this model is: £ 32146\n"
          ]
        }
      ]
    },
    {
      "cell_type": "markdown",
      "source": [
        "Downsides of model:\n",
        "1.   Weaker at predicting luxury cars as there is less autotrader listings for cars above 100k\n",
        "2.   not compatible with electric cars\n",
        "\n",
        "\n",
        "\n"
      ],
      "metadata": {
        "id": "_qeOTYXMJt5A"
      }
    },
    {
      "cell_type": "markdown",
      "source": [
        "#6.CNN\n",
        "implmentation of a classifier to compare\n",
        "\n"
      ],
      "metadata": {
        "id": "vDRXagZQ34yI"
      }
    },
    {
      "cell_type": "code",
      "source": [
        "import tensorflow as tf\n",
        "from tensorflow import keras\n",
        "from keras import layers\n",
        "from keras.models import Sequential,Input,Model\n",
        "from keras.layers import Dense, Dropout, Flatten\n",
        "from keras.layers import Conv2D, MaxPooling2D\n",
        "X_train,x_test,y_train,y_test = train_test_split(x,y,train_size=0.95, random_state= 34)\n",
        "print(X_train.shape)\n",
        "#number of features= 11661 = 69*13*13 or 169 69 13\n",
        "#X_train.resize(22574,69,13,13)\n",
        "X_train.resize(26807,69,13,13)\n",
        "x_test.resize(1411,69,13,13)\n",
        "\n",
        "print(X_train.shape)\n",
        "#normalising the data\n",
        "x_train = X_train/255\n",
        "x_test = x_test/255\n",
        "\n",
        "\n",
        "#creating the model:\n",
        "model = Sequential()\n",
        "model.add(Conv2D(input_shape=(69,13,13),kernel_size=(2,2), filters=256,activation='relu'))\n",
        "model.add(MaxPooling2D(pool_size=(2,2)))\n",
        "model.add(Dropout(0.3))\n",
        "\n",
        "model.add(Conv2D(input_shape=(69,13,13),kernel_size=(2,2), filters=128,activation='relu'))\n",
        "model.add(MaxPooling2D(pool_size=(2,2)))\n",
        "model.add(Dropout(0.3))\n",
        "\n",
        "\n",
        "#flattening the data\n",
        "model.add(Flatten())\n",
        "\n",
        "#the output classes\n",
        "model.add(Dense(16,activation='relu'))\n",
        "model.add(Dense(559000,activation='softmax'))\n",
        "\n",
        "model.summary()\n",
        "\n",
        "model.compile(loss = \"sparse_categorical_crossentropy\", optimizer = 'adam',metrics=['accuracy'])\n",
        "\n",
        "history = model.fit(x_train, y_train, epochs=120,validation_split = 0.2, verbose = 1)\n",
        "#history = model.fit(x_train, y_train, epochs=90, validation_split=0.2, verbose=1)\n"
      ],
      "metadata": {
        "colab": {
          "base_uri": "https://localhost:8080/"
        },
        "id": "eTgGyAdFyynu",
        "outputId": "233ca62c-dc3c-44cc-9bcb-99cdca9ad989"
      },
      "execution_count": null,
      "outputs": [
        {
          "output_type": "stream",
          "name": "stdout",
          "text": [
            "(26807, 11661)\n",
            "(26807, 69, 13, 13)\n",
            "Model: \"sequential\"\n",
            "_________________________________________________________________\n",
            " Layer (type)                Output Shape              Param #   \n",
            "=================================================================\n",
            " conv2d (Conv2D)             (None, 68, 12, 256)       13568     \n",
            "                                                                 \n",
            " max_pooling2d (MaxPooling2D  (None, 34, 6, 256)       0         \n",
            " )                                                               \n",
            "                                                                 \n",
            " dropout (Dropout)           (None, 34, 6, 256)        0         \n",
            "                                                                 \n",
            " conv2d_1 (Conv2D)           (None, 33, 5, 128)        131200    \n",
            "                                                                 \n",
            " max_pooling2d_1 (MaxPooling  (None, 16, 2, 128)       0         \n",
            " 2D)                                                             \n",
            "                                                                 \n",
            " dropout_1 (Dropout)         (None, 16, 2, 128)        0         \n",
            "                                                                 \n",
            " flatten (Flatten)           (None, 4096)              0         \n",
            "                                                                 \n",
            " dense (Dense)               (None, 16)                65552     \n",
            "                                                                 \n",
            " dense_1 (Dense)             (None, 559000)            9503000   \n",
            "                                                                 \n",
            "=================================================================\n",
            "Total params: 9,713,320\n",
            "Trainable params: 9,713,320\n",
            "Non-trainable params: 0\n",
            "_________________________________________________________________\n",
            "Epoch 1/120\n",
            "671/671 [==============================] - 245s 364ms/step - loss: 8.7904 - accuracy: 0.0100 - val_loss: 8.1361 - val_accuracy: 0.0103\n",
            "Epoch 2/120\n",
            "671/671 [==============================] - 242s 361ms/step - loss: 7.4684 - accuracy: 0.0108 - val_loss: 8.0486 - val_accuracy: 0.0101\n",
            "Epoch 3/120\n",
            "671/671 [==============================] - 242s 360ms/step - loss: 7.3099 - accuracy: 0.0109 - val_loss: 8.0614 - val_accuracy: 0.0101\n",
            "Epoch 4/120\n",
            "671/671 [==============================] - 242s 361ms/step - loss: 7.2429 - accuracy: 0.0112 - val_loss: 8.0296 - val_accuracy: 0.0119\n",
            "Epoch 5/120\n",
            "671/671 [==============================] - 240s 358ms/step - loss: 7.1857 - accuracy: 0.0103 - val_loss: 8.1136 - val_accuracy: 0.0106\n",
            "Epoch 6/120\n",
            "671/671 [==============================] - 242s 361ms/step - loss: 7.1154 - accuracy: 0.0127 - val_loss: 8.1807 - val_accuracy: 0.0125\n",
            "Epoch 7/120\n",
            "671/671 [==============================] - 242s 361ms/step - loss: 7.0387 - accuracy: 0.0135 - val_loss: 8.0957 - val_accuracy: 0.0129\n",
            "Epoch 8/120\n",
            "671/671 [==============================] - 243s 362ms/step - loss: 6.9293 - accuracy: 0.0133 - val_loss: 8.1195 - val_accuracy: 0.0159\n",
            "Epoch 9/120\n",
            "671/671 [==============================] - 242s 360ms/step - loss: 6.7776 - accuracy: 0.0170 - val_loss: 8.1673 - val_accuracy: 0.0177\n",
            "Epoch 10/120\n",
            "671/671 [==============================] - 241s 359ms/step - loss: 6.5952 - accuracy: 0.0204 - val_loss: 8.0138 - val_accuracy: 0.0213\n",
            "Epoch 11/120\n",
            "671/671 [==============================] - 241s 359ms/step - loss: 6.4337 - accuracy: 0.0302 - val_loss: 7.9178 - val_accuracy: 0.0328\n",
            "Epoch 12/120\n",
            "671/671 [==============================] - 239s 357ms/step - loss: 6.2913 - accuracy: 0.0427 - val_loss: 7.8954 - val_accuracy: 0.0472\n",
            "Epoch 13/120\n",
            "671/671 [==============================] - 239s 356ms/step - loss: 6.1762 - accuracy: 0.0522 - val_loss: 7.8975 - val_accuracy: 0.0576\n",
            "Epoch 14/120\n",
            "671/671 [==============================] - 238s 355ms/step - loss: 6.0758 - accuracy: 0.0590 - val_loss: 7.9741 - val_accuracy: 0.0649\n",
            "Epoch 15/120\n",
            "671/671 [==============================] - 237s 353ms/step - loss: 5.9857 - accuracy: 0.0696 - val_loss: 8.0632 - val_accuracy: 0.0658\n",
            "Epoch 16/120\n",
            "671/671 [==============================] - 238s 355ms/step - loss: 5.9126 - accuracy: 0.0739 - val_loss: 8.0971 - val_accuracy: 0.0705\n",
            "Epoch 17/120\n",
            "671/671 [==============================] - 237s 353ms/step - loss: 5.8402 - accuracy: 0.0813 - val_loss: 8.2289 - val_accuracy: 0.0806\n",
            "Epoch 18/120\n",
            "671/671 [==============================] - 237s 353ms/step - loss: 5.7767 - accuracy: 0.0893 - val_loss: 8.3133 - val_accuracy: 0.0875\n",
            "Epoch 19/120\n",
            "671/671 [==============================] - 237s 353ms/step - loss: 5.7175 - accuracy: 0.0945 - val_loss: 8.2335 - val_accuracy: 0.0918\n",
            "Epoch 20/120\n",
            "671/671 [==============================] - 237s 353ms/step - loss: 5.6593 - accuracy: 0.1001 - val_loss: 8.1514 - val_accuracy: 0.1028\n",
            "Epoch 21/120\n",
            "671/671 [==============================] - 236s 352ms/step - loss: 5.6056 - accuracy: 0.1052 - val_loss: 8.6359 - val_accuracy: 0.1085\n",
            "Epoch 22/120\n",
            "671/671 [==============================] - 237s 353ms/step - loss: 5.5439 - accuracy: 0.1154 - val_loss: 8.3081 - val_accuracy: 0.1184\n",
            "Epoch 23/120\n",
            "671/671 [==============================] - 237s 354ms/step - loss: 5.4747 - accuracy: 0.1247 - val_loss: 8.4313 - val_accuracy: 0.1315\n",
            "Epoch 24/120\n",
            "671/671 [==============================] - 238s 355ms/step - loss: 5.4062 - accuracy: 0.1334 - val_loss: 8.5541 - val_accuracy: 0.1371\n",
            "Epoch 25/120\n",
            "671/671 [==============================] - 237s 354ms/step - loss: 5.3413 - accuracy: 0.1396 - val_loss: 8.6457 - val_accuracy: 0.1414\n",
            "Epoch 26/120\n",
            "671/671 [==============================] - 238s 355ms/step - loss: 5.2863 - accuracy: 0.1465 - val_loss: 8.8104 - val_accuracy: 0.1417\n",
            "Epoch 27/120\n",
            "671/671 [==============================] - 238s 355ms/step - loss: 5.2340 - accuracy: 0.1469 - val_loss: 8.8162 - val_accuracy: 0.1518\n",
            "Epoch 28/120\n",
            "671/671 [==============================] - 239s 356ms/step - loss: 5.1978 - accuracy: 0.1525 - val_loss: 8.7821 - val_accuracy: 0.1516\n",
            "Epoch 29/120\n",
            "671/671 [==============================] - 241s 359ms/step - loss: 5.1496 - accuracy: 0.1559 - val_loss: 9.1030 - val_accuracy: 0.1512\n",
            "Epoch 30/120\n",
            "671/671 [==============================] - 239s 356ms/step - loss: 5.1095 - accuracy: 0.1604 - val_loss: 8.8513 - val_accuracy: 0.1507\n",
            "Epoch 31/120\n",
            "671/671 [==============================] - 238s 355ms/step - loss: 5.0735 - accuracy: 0.1649 - val_loss: 9.1438 - val_accuracy: 0.1609\n",
            "Epoch 32/120\n",
            "671/671 [==============================] - 241s 359ms/step - loss: 5.0436 - accuracy: 0.1679 - val_loss: 9.5527 - val_accuracy: 0.1637\n",
            "Epoch 33/120\n",
            "671/671 [==============================] - 240s 358ms/step - loss: 5.0199 - accuracy: 0.1702 - val_loss: 9.3642 - val_accuracy: 0.1651\n",
            "Epoch 34/120\n",
            "671/671 [==============================] - 239s 356ms/step - loss: 4.9888 - accuracy: 0.1716 - val_loss: 10.0175 - val_accuracy: 0.1762\n",
            "Epoch 35/120\n",
            "671/671 [==============================] - 240s 358ms/step - loss: 4.9630 - accuracy: 0.1759 - val_loss: 9.9720 - val_accuracy: 0.1731\n",
            "Epoch 36/120\n",
            "671/671 [==============================] - 240s 357ms/step - loss: 4.9439 - accuracy: 0.1772 - val_loss: 9.7939 - val_accuracy: 0.1802\n",
            "Epoch 37/120\n",
            "671/671 [==============================] - 240s 358ms/step - loss: 4.9192 - accuracy: 0.1799 - val_loss: 9.9174 - val_accuracy: 0.1761\n",
            "Epoch 38/120\n",
            "671/671 [==============================] - 241s 359ms/step - loss: 4.8996 - accuracy: 0.1808 - val_loss: 10.2702 - val_accuracy: 0.1762\n",
            "Epoch 39/120\n",
            "671/671 [==============================] - 244s 363ms/step - loss: 4.8772 - accuracy: 0.1846 - val_loss: 10.0243 - val_accuracy: 0.1846\n",
            "Epoch 40/120\n",
            "671/671 [==============================] - 242s 361ms/step - loss: 4.8736 - accuracy: 0.1832 - val_loss: 10.1615 - val_accuracy: 0.1852\n",
            "Epoch 41/120\n",
            "671/671 [==============================] - 241s 360ms/step - loss: 4.8351 - accuracy: 0.1864 - val_loss: 10.2627 - val_accuracy: 0.1818\n",
            "Epoch 42/120\n",
            "671/671 [==============================] - 240s 358ms/step - loss: 4.8194 - accuracy: 0.1880 - val_loss: 10.3698 - val_accuracy: 0.1843\n",
            "Epoch 43/120\n",
            "671/671 [==============================] - 241s 360ms/step - loss: 4.7955 - accuracy: 0.1914 - val_loss: 10.4648 - val_accuracy: 0.1867\n",
            "Epoch 44/120\n",
            "671/671 [==============================] - 241s 359ms/step - loss: 4.7833 - accuracy: 0.1902 - val_loss: 10.2814 - val_accuracy: 0.1893\n",
            "Epoch 45/120\n",
            "671/671 [==============================] - 238s 355ms/step - loss: 4.7771 - accuracy: 0.1909 - val_loss: 10.4536 - val_accuracy: 0.1856\n",
            "Epoch 46/120\n",
            "671/671 [==============================] - 239s 356ms/step - loss: 4.7602 - accuracy: 0.1948 - val_loss: 10.7195 - val_accuracy: 0.1904\n",
            "Epoch 47/120\n",
            "671/671 [==============================] - 239s 356ms/step - loss: 4.7437 - accuracy: 0.1952 - val_loss: 10.8341 - val_accuracy: 0.1889\n",
            "Epoch 48/120\n",
            "671/671 [==============================] - 238s 355ms/step - loss: 4.7271 - accuracy: 0.1950 - val_loss: 10.6849 - val_accuracy: 0.1923\n",
            "Epoch 49/120\n",
            "671/671 [==============================] - 238s 354ms/step - loss: 4.7185 - accuracy: 0.1972 - val_loss: 10.6873 - val_accuracy: 0.1910\n",
            "Epoch 50/120\n",
            "671/671 [==============================] - 240s 358ms/step - loss: 4.6995 - accuracy: 0.1956 - val_loss: 10.7588 - val_accuracy: 0.1917\n",
            "Epoch 51/120\n",
            "671/671 [==============================] - 240s 357ms/step - loss: 4.6871 - accuracy: 0.1995 - val_loss: 10.7376 - val_accuracy: 0.1966\n",
            "Epoch 52/120\n",
            "671/671 [==============================] - 240s 357ms/step - loss: 4.6760 - accuracy: 0.1989 - val_loss: 11.2468 - val_accuracy: 0.1932\n",
            "Epoch 53/120\n",
            "671/671 [==============================] - 240s 357ms/step - loss: 4.6709 - accuracy: 0.1999 - val_loss: 11.2062 - val_accuracy: 0.1992\n",
            "Epoch 54/120\n",
            "671/671 [==============================] - 240s 357ms/step - loss: 4.6433 - accuracy: 0.2025 - val_loss: 11.1225 - val_accuracy: 0.1997\n",
            "Epoch 55/120\n",
            "671/671 [==============================] - 239s 356ms/step - loss: 4.6285 - accuracy: 0.2033 - val_loss: 11.2774 - val_accuracy: 0.1992\n",
            "Epoch 56/120\n",
            "671/671 [==============================] - 239s 356ms/step - loss: 4.6256 - accuracy: 0.2029 - val_loss: 11.4695 - val_accuracy: 0.1969\n",
            "Epoch 57/120\n",
            "671/671 [==============================] - 237s 354ms/step - loss: 4.6043 - accuracy: 0.2068 - val_loss: 11.6097 - val_accuracy: 0.2012\n",
            "Epoch 58/120\n",
            "671/671 [==============================] - 238s 355ms/step - loss: 4.5867 - accuracy: 0.2069 - val_loss: 11.6189 - val_accuracy: 0.1997\n",
            "Epoch 59/120\n",
            "671/671 [==============================] - 237s 354ms/step - loss: 4.5740 - accuracy: 0.2087 - val_loss: 11.3879 - val_accuracy: 0.2072\n",
            "Epoch 60/120\n",
            "671/671 [==============================] - 237s 354ms/step - loss: 4.5520 - accuracy: 0.2110 - val_loss: 11.5603 - val_accuracy: 0.2038\n",
            "Epoch 61/120\n",
            "671/671 [==============================] - 238s 354ms/step - loss: 4.5532 - accuracy: 0.2126 - val_loss: 11.4981 - val_accuracy: 0.2055\n",
            "Epoch 62/120\n",
            "671/671 [==============================] - 237s 354ms/step - loss: 4.5274 - accuracy: 0.2137 - val_loss: 11.6841 - val_accuracy: 0.2009\n",
            "Epoch 63/120\n",
            "671/671 [==============================] - 237s 353ms/step - loss: 4.5279 - accuracy: 0.2126 - val_loss: 11.5905 - val_accuracy: 0.2059\n",
            "Epoch 64/120\n",
            "671/671 [==============================] - 236s 352ms/step - loss: 4.5059 - accuracy: 0.2140 - val_loss: 12.0266 - val_accuracy: 0.2091\n",
            "Epoch 65/120\n",
            "671/671 [==============================] - 237s 353ms/step - loss: 4.5081 - accuracy: 0.2141 - val_loss: 11.5237 - val_accuracy: 0.2093\n",
            "Epoch 66/120\n",
            "671/671 [==============================] - 237s 353ms/step - loss: 4.4911 - accuracy: 0.2154 - val_loss: 11.9914 - val_accuracy: 0.2079\n",
            "Epoch 67/120\n",
            "671/671 [==============================] - 237s 353ms/step - loss: 4.4822 - accuracy: 0.2187 - val_loss: 11.9387 - val_accuracy: 0.2119\n",
            "Epoch 68/120\n",
            "671/671 [==============================] - 238s 354ms/step - loss: 4.4665 - accuracy: 0.2177 - val_loss: 12.0195 - val_accuracy: 0.2098\n",
            "Epoch 69/120\n",
            "671/671 [==============================] - 240s 357ms/step - loss: 4.4631 - accuracy: 0.2187 - val_loss: 11.7714 - val_accuracy: 0.2113\n",
            "Epoch 70/120\n",
            "671/671 [==============================] - 240s 357ms/step - loss: 4.4478 - accuracy: 0.2208 - val_loss: 12.2901 - val_accuracy: 0.2117\n",
            "Epoch 71/120\n",
            "671/671 [==============================] - 237s 354ms/step - loss: 4.4353 - accuracy: 0.2212 - val_loss: 12.5020 - val_accuracy: 0.2100\n",
            "Epoch 72/120\n",
            "671/671 [==============================] - 237s 353ms/step - loss: 4.4337 - accuracy: 0.2214 - val_loss: 12.1593 - val_accuracy: 0.2107\n",
            "Epoch 73/120\n",
            "671/671 [==============================] - 239s 356ms/step - loss: 4.4077 - accuracy: 0.2218 - val_loss: 12.7006 - val_accuracy: 0.2169\n",
            "Epoch 74/120\n",
            "671/671 [==============================] - 239s 357ms/step - loss: 4.3989 - accuracy: 0.2252 - val_loss: 12.2772 - val_accuracy: 0.2156\n",
            "Epoch 75/120\n",
            "671/671 [==============================] - 239s 356ms/step - loss: 4.3841 - accuracy: 0.2260 - val_loss: 12.1847 - val_accuracy: 0.2216\n",
            "Epoch 76/120\n",
            "671/671 [==============================] - 239s 357ms/step - loss: 4.3594 - accuracy: 0.2291 - val_loss: 12.4371 - val_accuracy: 0.2152\n",
            "Epoch 77/120\n",
            "671/671 [==============================] - 238s 355ms/step - loss: 4.3383 - accuracy: 0.2289 - val_loss: 12.2752 - val_accuracy: 0.2169\n",
            "Epoch 78/120\n",
            "671/671 [==============================] - 237s 354ms/step - loss: 4.3204 - accuracy: 0.2294 - val_loss: 12.4915 - val_accuracy: 0.2143\n",
            "Epoch 79/120\n",
            "671/671 [==============================] - 239s 356ms/step - loss: 4.3005 - accuracy: 0.2306 - val_loss: 12.6081 - val_accuracy: 0.2212\n",
            "Epoch 80/120\n",
            "671/671 [==============================] - 239s 356ms/step - loss: 4.2950 - accuracy: 0.2330 - val_loss: 12.5757 - val_accuracy: 0.2163\n",
            "Epoch 81/120\n",
            "671/671 [==============================] - 239s 357ms/step - loss: 4.2945 - accuracy: 0.2342 - val_loss: 12.3076 - val_accuracy: 0.2217\n",
            "Epoch 82/120\n",
            "671/671 [==============================] - 239s 357ms/step - loss: 4.2718 - accuracy: 0.2363 - val_loss: 12.5741 - val_accuracy: 0.2208\n",
            "Epoch 83/120\n",
            "671/671 [==============================] - 239s 357ms/step - loss: 4.2509 - accuracy: 0.2379 - val_loss: 12.7808 - val_accuracy: 0.2253\n",
            "Epoch 84/120\n",
            "671/671 [==============================] - 239s 357ms/step - loss: 4.2439 - accuracy: 0.2379 - val_loss: 13.0936 - val_accuracy: 0.2266\n",
            "Epoch 85/120\n",
            "671/671 [==============================] - 238s 355ms/step - loss: 4.2190 - accuracy: 0.2420 - val_loss: 12.7728 - val_accuracy: 0.2251\n",
            "Epoch 86/120\n",
            "671/671 [==============================] - 240s 358ms/step - loss: 4.1956 - accuracy: 0.2428 - val_loss: 12.7837 - val_accuracy: 0.2270\n",
            "Epoch 87/120\n",
            "671/671 [==============================] - 240s 358ms/step - loss: 4.1813 - accuracy: 0.2457 - val_loss: 13.2358 - val_accuracy: 0.2270\n",
            "Epoch 88/120\n",
            "671/671 [==============================] - 239s 357ms/step - loss: 4.1699 - accuracy: 0.2449 - val_loss: 12.8453 - val_accuracy: 0.2279\n",
            "Epoch 89/120\n",
            "671/671 [==============================] - 239s 357ms/step - loss: 4.1638 - accuracy: 0.2473 - val_loss: 12.8090 - val_accuracy: 0.2286\n",
            "Epoch 90/120\n",
            "671/671 [==============================] - 239s 357ms/step - loss: 4.1431 - accuracy: 0.2471 - val_loss: 13.0876 - val_accuracy: 0.2300\n",
            "Epoch 91/120\n",
            "671/671 [==============================] - 238s 355ms/step - loss: 4.1336 - accuracy: 0.2518 - val_loss: 13.1053 - val_accuracy: 0.2329\n",
            "Epoch 92/120\n",
            "671/671 [==============================] - 238s 355ms/step - loss: 4.1257 - accuracy: 0.2491 - val_loss: 13.4470 - val_accuracy: 0.2320\n",
            "Epoch 93/120\n",
            "671/671 [==============================] - 237s 354ms/step - loss: 4.1062 - accuracy: 0.2498 - val_loss: 13.3681 - val_accuracy: 0.2279\n",
            "Epoch 94/120\n",
            "671/671 [==============================] - 238s 355ms/step - loss: 4.1073 - accuracy: 0.2542 - val_loss: 13.0609 - val_accuracy: 0.2300\n",
            "Epoch 95/120\n",
            "671/671 [==============================] - 238s 354ms/step - loss: 4.0763 - accuracy: 0.2554 - val_loss: 13.3535 - val_accuracy: 0.2305\n",
            "Epoch 96/120\n",
            "671/671 [==============================] - 238s 355ms/step - loss: 4.0611 - accuracy: 0.2579 - val_loss: 13.4256 - val_accuracy: 0.2331\n",
            "Epoch 97/120\n",
            "671/671 [==============================] - 237s 354ms/step - loss: 4.0601 - accuracy: 0.2560 - val_loss: 13.8273 - val_accuracy: 0.2311\n",
            "Epoch 98/120\n",
            "671/671 [==============================] - 237s 353ms/step - loss: 4.0336 - accuracy: 0.2558 - val_loss: 13.6029 - val_accuracy: 0.2301\n",
            "Epoch 99/120\n",
            "671/671 [==============================] - 236s 352ms/step - loss: 4.0275 - accuracy: 0.2607 - val_loss: 13.6252 - val_accuracy: 0.2341\n",
            "Epoch 100/120\n",
            "671/671 [==============================] - 237s 353ms/step - loss: 4.0124 - accuracy: 0.2612 - val_loss: 13.4924 - val_accuracy: 0.2382\n",
            "Epoch 101/120\n",
            "671/671 [==============================] - 237s 354ms/step - loss: 3.9979 - accuracy: 0.2614 - val_loss: 13.7383 - val_accuracy: 0.2341\n",
            "Epoch 102/120\n",
            "671/671 [==============================] - 238s 354ms/step - loss: 3.9712 - accuracy: 0.2654 - val_loss: 13.8689 - val_accuracy: 0.2342\n",
            "Epoch 103/120\n",
            "671/671 [==============================] - 242s 361ms/step - loss: 3.9713 - accuracy: 0.2659 - val_loss: 13.9619 - val_accuracy: 0.2333\n",
            "Epoch 104/120\n",
            "671/671 [==============================] - 244s 364ms/step - loss: 3.9489 - accuracy: 0.2662 - val_loss: 13.5625 - val_accuracy: 0.2357\n",
            "Epoch 105/120\n",
            "671/671 [==============================] - 241s 359ms/step - loss: 3.9333 - accuracy: 0.2694 - val_loss: 13.6839 - val_accuracy: 0.2402\n",
            "Epoch 106/120\n",
            "671/671 [==============================] - 240s 358ms/step - loss: 3.9164 - accuracy: 0.2726 - val_loss: 14.1309 - val_accuracy: 0.2428\n",
            "Epoch 107/120\n",
            "671/671 [==============================] - 241s 359ms/step - loss: 3.8925 - accuracy: 0.2771 - val_loss: 14.2440 - val_accuracy: 0.2376\n",
            "Epoch 108/120\n",
            "671/671 [==============================] - 240s 357ms/step - loss: 3.8796 - accuracy: 0.2738 - val_loss: 14.3643 - val_accuracy: 0.2421\n",
            "Epoch 109/120\n",
            "671/671 [==============================] - 236s 352ms/step - loss: 3.8572 - accuracy: 0.2782 - val_loss: 13.8995 - val_accuracy: 0.2432\n",
            "Epoch 110/120\n",
            "671/671 [==============================] - 238s 355ms/step - loss: 3.8612 - accuracy: 0.2805 - val_loss: 13.8694 - val_accuracy: 0.2415\n",
            "Epoch 111/120\n",
            "671/671 [==============================] - 240s 358ms/step - loss: 3.8449 - accuracy: 0.2811 - val_loss: 14.1945 - val_accuracy: 0.2467\n",
            "Epoch 112/120\n",
            "671/671 [==============================] - 240s 358ms/step - loss: 3.8339 - accuracy: 0.2827 - val_loss: 14.3122 - val_accuracy: 0.2462\n",
            "Epoch 113/120\n",
            "671/671 [==============================] - 240s 358ms/step - loss: 3.8256 - accuracy: 0.2849 - val_loss: 13.9656 - val_accuracy: 0.2462\n",
            "Epoch 114/120\n",
            "671/671 [==============================] - 240s 357ms/step - loss: 3.8091 - accuracy: 0.2847 - val_loss: 14.3963 - val_accuracy: 0.2439\n",
            "Epoch 115/120\n",
            "671/671 [==============================] - 239s 356ms/step - loss: 3.8012 - accuracy: 0.2881 - val_loss: 14.4979 - val_accuracy: 0.2458\n",
            "Epoch 116/120\n",
            "671/671 [==============================] - 238s 354ms/step - loss: 3.7964 - accuracy: 0.2869 - val_loss: 14.3666 - val_accuracy: 0.2492\n",
            "Epoch 117/120\n",
            "671/671 [==============================] - 237s 354ms/step - loss: 3.7954 - accuracy: 0.2912 - val_loss: 14.7747 - val_accuracy: 0.2462\n",
            "Epoch 118/120\n",
            "671/671 [==============================] - 237s 354ms/step - loss: 3.7737 - accuracy: 0.2914 - val_loss: 14.7195 - val_accuracy: 0.2492\n",
            "Epoch 119/120\n",
            "671/671 [==============================] - 239s 356ms/step - loss: 3.7558 - accuracy: 0.2923 - val_loss: 14.7642 - val_accuracy: 0.2520\n",
            "Epoch 120/120\n",
            "671/671 [==============================] - 237s 353ms/step - loss: 3.7491 - accuracy: 0.2943 - val_loss: 14.7106 - val_accuracy: 0.2520\n"
          ]
        }
      ]
    },
    {
      "cell_type": "code",
      "source": [
        "model.evaluate(x_test,y_test)\n",
        "\n",
        "# #accuracy curve for training data\n",
        "# plt.plot(history.history['accuracy'])\n",
        "# plt.title(\"Accuracy\")\n",
        "# plt.figure()\n",
        "\n",
        "plt.plot(history.history['accuracy'])\n",
        "plt.plot(history.history['val_accuracy'])\n",
        "plt.xlabel(\"Epoch\")\n",
        "plt.ylabel(\"Accuracy\")\n",
        "plt.title(\"Accuracy Graph\")\n",
        "plt.legend(['Training Accuracy',\n",
        "           'Validation Accuracy'])"
      ],
      "metadata": {
        "id": "1JdccHUTkQad",
        "colab": {
          "base_uri": "https://localhost:8080/",
          "height": 332
        },
        "outputId": "d57abfe9-0afc-410e-ec9c-b9b17bf237e0"
      },
      "execution_count": null,
      "outputs": [
        {
          "output_type": "stream",
          "name": "stdout",
          "text": [
            "45/45 [==============================] - 8s 171ms/step - loss: 14.4744 - accuracy: 0.2431\n"
          ]
        },
        {
          "output_type": "execute_result",
          "data": {
            "text/plain": [
              "<matplotlib.legend.Legend at 0x7fcfb2e15690>"
            ]
          },
          "metadata": {},
          "execution_count": 130
        },
        {
          "output_type": "display_data",
          "data": {
            "text/plain": [
              "<Figure size 432x288 with 1 Axes>"
            ],
            "image/png": "[encoded data removed]"
          },
          "metadata": {
            "needs_background": "light"
          }
        }
      ]
    },
    {
      "cell_type": "markdown",
      "source": [
        "The CNN is not an optimal model, it required a lot of fine tuning and the validation accuracy levels out at around 30% after a certain amount of epochs.\n",
        "\n",
        "Also the CNN classifies each car model to an already existing price, it is more suited to classifications where there are a finite amount of solutions and each solution is known. \n",
        "\n",
        "This is becuase 'Price' as a label is a continous variable (float), it can't predict it as well. There are no finite amout of answers. Using a regressor is better in this case since it can extrapolate data based on the data it has already seen and give a valid prediction"
      ],
      "metadata": {
        "id": "11K-_YYNTape"
      }
    }
  ]
}